{
 "cells": [
  {
   "cell_type": "code",
   "execution_count": 1,
   "id": "c4acba2a-89e0-40ce-8061-8ec75b775edf",
   "metadata": {},
   "outputs": [],
   "source": [
    "# If we are on colab: this clones the repo and installs the dependencies\n",
    "from pathlib import Path\n",
    "\n",
    "if Path.cwd().name != \"LightGlue\":\n",
    "    !git clone --quiet https://github.com/cvg/LightGlue/\n",
    "    %cd LightGlue\n",
    "    !pip install --progress-bar off --quiet -e .\n",
    "\n",
    "from lightglue import LightGlue, SuperPoint, DISK\n",
    "from lightglue.utils import load_image, rbd\n",
    "from lightglue import viz2d\n",
    "import torch\n",
    "\n",
    "torch.set_grad_enabled(False)\n",
    "images = Path(\"data\")"
   ]
  },
  {
   "cell_type": "code",
   "execution_count": 2,
   "id": "5b38054b-d413-49e3-9264-9fb24ae2eb03",
   "metadata": {},
   "outputs": [],
   "source": [
    "device = torch.device(\"cuda\" if torch.cuda.is_available() else \"cpu\")  # 'mps', 'cpu'\n",
    "\n",
    "# extractor = SuperPoint(max_num_keypoints=256).eval().to(device)  # load the extractor\n",
    "# matcher = LightGlue(features=\"superpoint\").eval().to(device)"
   ]
  },
  {
   "cell_type": "code",
   "execution_count": 3,
   "id": "b9454d3f-471d-4420-b269-3beaea22c998",
   "metadata": {},
   "outputs": [],
   "source": [
    "import torch\n",
    "from torch.optim import lr_scheduler\n",
    "import torch.optim as optim\n",
    "from torch.autograd import Variable\n",
    "\n",
    "# from siamese.trainer import fit\n",
    "import numpy as np\n",
    "cuda = torch.cuda.is_available()\n",
    "\n",
    "%matplotlib inline\n",
    "import matplotlib\n",
    "import matplotlib.pyplot as plt"
   ]
  },
  {
   "cell_type": "code",
   "execution_count": 4,
   "id": "eefcf6e5-856f-4ac5-8be3-75a4bcb59c7a",
   "metadata": {},
   "outputs": [],
   "source": [
    "import torch.nn as nn\n",
    "import torch.nn.functional as F\n",
    "import torchvision.models as models"
   ]
  },
  {
   "cell_type": "code",
   "execution_count": 5,
   "id": "9a012b63-2753-4043-af87-96be82cd050e",
   "metadata": {},
   "outputs": [],
   "source": [
    "def convert_to_displayable_image(image):\n",
    "    # Convert from tensor to NumPy if needed\n",
    "    if torch.is_tensor(image):\n",
    "        image = image.cpu().detach().numpy()\n",
    "    \n",
    "    # If image is float32, scale to [0, 255] and convert to uint8\n",
    "    if image.dtype == np.float32:\n",
    "        image = (image * 255).astype(np.uint8)\n",
    "    \n",
    "    # If image is in channels-first format, convert to channels-last\n",
    "    if image.ndim == 3 and image.shape[0] in [1, 3]:\n",
    "        image = image.transpose(1, 2, 0)  # Convert CxHxW to HxWxC\n",
    "\n",
    "    return Image.fromarray(image)"
   ]
  },
  {
   "cell_type": "code",
   "execution_count": 6,
   "id": "04eafd63-8dc5-4ff4-934d-aab9af4195c4",
   "metadata": {},
   "outputs": [],
   "source": [
    "import matplotlib.pyplot as plt\n",
    "import matplotlib.patches as patches\n",
    "from matplotlib.patches import ConnectionPatch\n",
    "import matplotlib.colors as mcolors\n",
    "import numpy as np\n",
    "\n",
    "%matplotlib inline\n",
    "# Can only be used with a display\n",
    "# %matplotlib notebook\n",
    "# matplotlib.use('TkAgg')\n",
    "\n",
    "def show_matched_keypoints(image1, image2, good_kpts1, good_kpts2, bad_kpts1, bad_kpts2):\n",
    "    fig, axs = plt.subplots(1, 2, figsize=(12, 6))\n",
    "\n",
    "    # Convert images to displayable format\n",
    "    image1_np = image1.cpu().numpy().transpose(1, 2, 0)\n",
    "    image2_np = image2.cpu().numpy().transpose(1, 2, 0)\n",
    "\n",
    "    print(image1_np.shape)\n",
    "    print(image2_np.shape)\n",
    "\n",
    "    # Display original images\n",
    "    axs[0].imshow(image1_np)\n",
    "    axs[1].imshow(image2_np)\n",
    "\n",
    "    # Overlay patches on images\n",
    "    for i in range(len(good_kpts1)):\n",
    "        x1, y1 = good_kpts1[i]\n",
    "        x2, y2 = good_kpts2[i]\n",
    "        color = 'lime'\n",
    "        cir1 = patches.Circle((x1, y1), 1, linewidth=1, edgecolor=color, facecolor=color, alpha=1)\n",
    "        cir2 = patches.Circle((x2, y2), 1, linewidth=1, edgecolor=color, facecolor=color, alpha=1)\n",
    "        axs[0].add_patch(cir1)\n",
    "        axs[1].add_patch(cir2)\n",
    "\n",
    "        # Draw a line connecting the patches\n",
    "        line = ConnectionPatch(xyA=(x1, y1), xyB=(x2, y2), coordsA='data', coordsB='data', axesA=axs[0], axesB=axs[1], color=color, alpha=0.5, linewidth=1.0)\n",
    "        axs[1].add_artist(line)\n",
    "\n",
    "    for i in range(len(bad_kpts1)):\n",
    "        x1, y1 = bad_kpts1[i]\n",
    "        x2, y2 = bad_kpts2[i]\n",
    "        color = 'red'\n",
    "        cir1 = patches.Circle((x1, y1), 1, linewidth=1, edgecolor=color, facecolor=color, alpha=1)\n",
    "        cir2 = patches.Circle((x2, y2), 1, linewidth=1, edgecolor=color, facecolor=color, alpha=1)\n",
    "        axs[0].add_patch(cir1)\n",
    "        axs[1].add_patch(cir2)\n",
    "\n",
    "        # Draw a line connecting the patches\n",
    "        line = ConnectionPatch(xyA=(x1, y1), xyB=(x2, y2), coordsA='data', coordsB='data', axesA=axs[0], axesB=axs[1], color=color, alpha=0.5, linewidth=1.0)\n",
    "        axs[1].add_artist(line)\n",
    "\n",
    "    plt.savefig(\"cos_mind_slice_match.png\")\n",
    "    plt.show()\n"
   ]
  },
  {
   "cell_type": "code",
   "execution_count": 7,
   "id": "d75c0395-36d0-471f-8ec1-b8092665f690",
   "metadata": {},
   "outputs": [],
   "source": [
    "from sklearn.metrics.pairwise import cosine_similarity\n",
    "\n",
    "def find_top_matches(patches1, patches2, kpts1, kpts2, embeddings1, embeddings2, sim_threshold):\n",
    "    # Convert embeddings to NumPy arrays for efficient computation\n",
    "    embeddings1_array = np.array(embeddings1)\n",
    "    embeddings2_array = np.array(embeddings2)\n",
    "\n",
    "    # Normalize the embeddings\n",
    "    embeddings1_array = embeddings1_array / np.linalg.norm(embeddings1_array, axis=1, keepdims=True)\n",
    "    embeddings2_array = embeddings2_array / np.linalg.norm(embeddings2_array, axis=1, keepdims=True)\n",
    "\n",
    "\n",
    "    # Initialize lists to store matches\n",
    "    good_match_similarities, bad_match_similarities = [], []\n",
    "    good_kpts1, good_kpts2, good_patches1, good_patches2 = [], [], [], []\n",
    "    bad_kpts1, bad_kpts2, bad_patches1, bad_patches2 = [], [], [], []\n",
    "\n",
    "    # print(embeddings1_array.shape)\n",
    "\n",
    "    # Computer pairwise cos distance\n",
    "    similarities = cosine_similarity(embeddings1_array, embeddings2_array)\n",
    "\n",
    "    # print(similarities)\n",
    "\n",
    "    \n",
    "    # Find the top K matches for each embedding in embeddings1\n",
    "    sorted_indices = np.argsort(similarities, axis=1)[:, ::-1]\n",
    "\n",
    "    # print(sorted_indices)\n",
    "\n",
    "    for i, (sorted_idx, emb_similarities) in enumerate(zip(sorted_indices, similarities)):\n",
    "        # Apply Lowe's ratio test\n",
    "        if len(sorted_idx) >= 2 and emb_similarities[sorted_idx[0]] > sim_threshold:\n",
    "            ratio = emb_similarities[sorted_idx[1]] / emb_similarities[sorted_idx[0]]\n",
    "            if emb_similarities[sorted_idx[0]] > sim_threshold:\n",
    "                if ratio < 0.99:\n",
    "                # if True:\n",
    "                    # Good match\n",
    "                    good_match_similarities.append(emb_similarities[sorted_idx[0]])\n",
    "                    good_kpts1.append(kpts1[i])\n",
    "                    good_kpts2.append(kpts2[sorted_idx[0]])\n",
    "                    good_patches1.append(patches1[i])\n",
    "                    good_patches2.append(patches2[sorted_idx[0]])\n",
    "                else:\n",
    "                    # Bad match\n",
    "                    bad_match_similarities.append(emb_similarities[sorted_idx[0]])\n",
    "                    bad_kpts1.append(kpts1[i])\n",
    "                    bad_kpts2.append(kpts2[sorted_idx[0]])\n",
    "                    bad_patches1.append(patches1[i])\n",
    "                    bad_patches2.append(patches2[sorted_idx[0]])\n",
    "\n",
    "    return good_match_similarities, bad_match_similarities, good_kpts1, good_kpts2, bad_kpts1, bad_kpts2, good_patches1, good_patches2, bad_patches1, bad_patches2\n"
   ]
  },
  {
   "cell_type": "code",
   "execution_count": 8,
   "id": "e037cbbe-7a99-42cc-a822-52ae5e8e0936",
   "metadata": {},
   "outputs": [],
   "source": [
    "import torch\n",
    "from PIL import Image\n",
    "from torchvision.transforms import Resize, ToTensor\n",
    "\n",
    "def isolate_green_and_mask_image(image_path, mask_path, long_side, device):\n",
    "    \n",
    "    # Load the images\n",
    "    image = load_path_for_pytorch(image_path, long_side, force_scale=True)\n",
    "    mask = load_path_for_pytorch(mask_path, long_side, force_scale=True)\n",
    "\n",
    "    # Convert to tensor\n",
    "    # to_tensor = ToTensor()\n",
    "    image = image.to(device)\n",
    "    mask = mask.to(device)\n",
    "\n",
    "    # Isolate the green channel and create a binary mask\n",
    "    # Assuming green regions have higher green values compared to red and blue\n",
    "    green_channel = mask[1, :, :]\n",
    "    red_channel = mask[0, :, :]\n",
    "    blue_channel = mask[2, :, :]\n",
    "    binary_mask = (green_channel > red_channel) & (green_channel > blue_channel)\n",
    "    binary_mask = binary_mask.float()\n",
    "\n",
    "    kernel_size = 11  # This corresponds to reducing the ROI by 5 pixels in each direction\n",
    "    kernel = np.ones((kernel_size, kernel_size), np.uint8)\n",
    "\n",
    "    # Apply erosion to reduce the ROI\n",
    "    eroded_mask = cv2.erode(binary_mask.cpu().numpy(), kernel, iterations=1)\n",
    "\n",
    "    # Apply the mask\n",
    "    masked_image = image * torch.from_numpy(eroded_mask).unsqueeze(0).to(device)\n",
    "\n",
    "    return masked_image, binary_mask"
   ]
  },
  {
   "cell_type": "code",
   "execution_count": 9,
   "id": "248ccc3a-3494-4f68-8881-fa9c139d2c77",
   "metadata": {},
   "outputs": [],
   "source": [
    "from torch.autograd import Variable\n",
    "import torch.nn as nn\n",
    "import torch.nn.functional as F\n",
    "import torch\n",
    "from imageio import imread\n",
    "import numpy as np\n",
    "\n",
    "def load_path_for_pytorch(path, max_side=1000, force_scale=False, verbose=True):\n",
    "\n",
    "    com_f = max\n",
    "\n",
    "    x = imread(path)\n",
    "    s = x.shape\n",
    "\n",
    "    x = x/255.#-0.5\n",
    "    xt = x.copy()\n",
    "    \n",
    "    if len(s) < 3:\n",
    "        x = np.stack([x,x,x],2)\n",
    "\n",
    "    if x.shape[2] > 3:\n",
    "        x = x[:,:,:3]\n",
    "\n",
    "    x = x.astype(np.float32)\n",
    "    x = torch.from_numpy(x).contiguous().permute(2,0,1).contiguous()\n",
    "\n",
    "\n",
    "    if (com_f(s[:2])>max_side and max_side>0) or force_scale:\n",
    "\n",
    "\n",
    "        fac = float(max_side)/com_f(s[:2])\n",
    "        x = F.interpolate(x.unsqueeze(0),( int(s[0]*fac), int(s[1]*fac) ), mode='bilinear', align_corners=False)[0]\n",
    "        so = s\n",
    "        s = x.shape\n",
    "\n",
    "    return x"
   ]
  },
  {
   "cell_type": "code",
   "execution_count": 10,
   "id": "89933288-dd7a-4746-9a9b-1c23e2737452",
   "metadata": {},
   "outputs": [],
   "source": [
    "from sklearn.cluster import DBSCAN\n",
    "import numpy as np\n",
    "\n",
    "def cluster_keypoints_dbscan(kpts2, eps=2, min_samples=2):\n",
    "    \"\"\"\n",
    "    Cluster keypoints in image 2 using DBSCAN.\n",
    "\n",
    "    Parameters:\n",
    "    - kpts2: numpy array of keypoints in image 2 of shape (N2, 2).\n",
    "    - eps: The maximum distance between two samples for one to be considered as in the neighborhood of the other.\n",
    "    - min_samples: The number of samples (or total weight) in a neighborhood for a point to be considered as a core point.\n",
    "\n",
    "    Returns:\n",
    "    - clustered_kpts: numpy array of the centroid of each cluster.\n",
    "    \"\"\"\n",
    "\n",
    "    # Run DBSCAN\n",
    "    clustering = DBSCAN(eps=eps, min_samples=min_samples).fit(kpts2)\n",
    "    \n",
    "    clustered_kpts = []\n",
    "    for label in set(clustering.labels_):\n",
    "        if label == -1:\n",
    "            # Skip noise points\n",
    "            continue\n",
    "        # Find the centroid of each cluster\n",
    "        cluster_points = kpts2[clustering.labels_ == label]\n",
    "        centroid = cluster_points.mean(axis=0)\n",
    "        clustered_kpts.append(centroid)\n",
    "\n",
    "    return np.array(clustered_kpts)\n",
    "\n",
    "# Assuming kpts2 is a numpy array containing the keypoints from image 2\n",
    "# Example usage:\n",
    "# clustered_kpts2 = cluster_keypoints_dbscan(kpts2.numpy(), eps=5, min_samples=3)"
   ]
  },
  {
   "cell_type": "code",
   "execution_count": 11,
   "id": "d7bfb1d2-9b54-4cd0-8942-db94a76bd36d",
   "metadata": {},
   "outputs": [],
   "source": [
    "def filter_one_to_one_matches(matches):\n",
    "    # Sort matches based on score so that higher scores come first\n",
    "    matches.sort(key=lambda x: x[2], reverse=True)\n",
    "    \n",
    "    match_index1 = set()\n",
    "    match_index2 = set()\n",
    "    filtered_matches = []\n",
    "    \n",
    "    for index1, index2, score in matches:\n",
    "        # If neither index1 nor index2 have been used yet, add the match\n",
    "        if index1 not in match_index1 and index2 not in match_index2:\n",
    "            filtered_matches.append((index1, index2, score))\n",
    "            match_index1.add(index1)\n",
    "            match_index2.add(index2)\n",
    "    \n",
    "    return filtered_matches"
   ]
  },
  {
   "cell_type": "code",
   "execution_count": 12,
   "id": "cd47f028-8d21-47dd-a802-5b18630fcdca",
   "metadata": {
    "scrolled": true
   },
   "outputs": [
    {
     "name": "stderr",
     "output_type": "stream",
     "text": [
      "/tmp/ipykernel_16099/3428403937.py:12: DeprecationWarning: Starting with ImageIO v3 the behavior of this function will switch to that of iio.v3.imread. To keep the current behavior (and make this warning disappear) use `import imageio.v2 as imageio` or call `imageio.v2.imread` directly.\n",
      "  x = imread(path)\n"
     ]
    },
    {
     "name": "stdout",
     "output_type": "stream",
     "text": [
      "200\n"
     ]
    }
   ],
   "source": [
    "import torch\n",
    "import numpy as np\n",
    "import matplotlib.pyplot as plt\n",
    "from torchvision import transforms\n",
    "import cv2\n",
    "\n",
    "# Function to get embeddings for a list of patches\n",
    "def get_embeddings(patches):\n",
    "    embeddings = []\n",
    "    # print(patches)\n",
    "    for patch in patches:\n",
    "        patch_processed = preprocess_image(patch).unsqueeze(0).to(device)  # Add batch dimension\n",
    "        with torch.no_grad():\n",
    "            embedding = model.get_embedding(patch_processed)\n",
    "        embeddings.append(embedding.cpu().numpy())\n",
    "    return np.vstack(embeddings)\n",
    "\n",
    "\n",
    "def extract_and_match_patches(image1, kpts1, image2, extractor, device, patch_size=64):\n",
    "    #Not used anymore, doesn't affect results if ratio test is used\n",
    "    sim_threshold = 0.95\n",
    "    \n",
    "    # Preprocess and extract patches from both images\n",
    "    image1 = image1.to(device)\n",
    "    image2 = image2.to(device)\n",
    "\n",
    "    # extractor = SuperPoint(max_num_keypoints=None).eval().to(device)\n",
    "    \n",
    "    # feats2 = extractor.extract(image2)\n",
    "    # feats2 = rbd(feats2)\n",
    "    # kpts2 = feats2[\"keypoints\"]\n",
    "\n",
    "    kpts2 = kpts1\n",
    "\n",
    "    print(len(kpts2))\n",
    "\n",
    "    # Example: Creating the initial list of matches with similarity scores\n",
    "    # matches = [(i, j, score) for i, j, score in zip(range(len(good_kpts1)), range(len(good_kpts2)), good_match_sims)]\n",
    "    \n",
    "    # Filter for one-to-one matches\n",
    "    # one_to_one_matches = filter_one_to_one_matches(matches)\n",
    "    \n",
    "    # Extracting the filtered keypoints and their scores\n",
    "    # filtered_good_kpts1 = [good_kpts1[i] for i, _, _ in one_to_one_matches]\n",
    "    # filtered_good_kpts2 = [good_kpts2[j] for _, j, _ in one_to_one_matches]\n",
    "    # filtered_scores = [score for _, _, score in one_to_one_matches]\n",
    "\n",
    "    # all_matches = len(filtered_good_kpts1)\n",
    "    # print(f\"All Matches: {all_matches}\")\n",
    "\n",
    "    # patches1, filtered_good_kpts1 = extract_patches(image1.cpu().numpy(), filtered_good_kpts1, size=patch_size)\n",
    "    # patches2, filtered_good_kpts2 = extract_patches(image2.cpu().numpy(), filtered_good_kpts2, size=patch_size)\n",
    "    \n",
    "    # # print(f\"All Matches (within threshold): {len(filtered_top_matches)}\")\n",
    "    # good_good_kpts1, good_good_kpts2, good_good_distances, bad_good_kpts1, bad_good_kpts2, bad_good_distances, similar_patches_count = extract_good_and_bad_matches(filtered_good_kpts1, filtered_good_kpts2, filtered_scores)\n",
    "    # print(f\"TPs: {len(good_good_kpts1)}\")\n",
    "    # print(f\"FPs: {len(bad_good_kpts1)}\")\n",
    "    # print(f\"TPR: {len(good_good_kpts1)/all_matches*100}%\")\n",
    "    # print(f\"FPR: {len(bad_good_kpts1)/all_matches*100}%\")\n",
    "    # # print(f\"Percentage of Good Matches: {(len(good_good_kpts1)/len(good_kpts1))*100}%\")\n",
    "    # show_matched_keypoints(image1, image2, good_good_kpts1, good_good_kpts2, bad_good_kpts1, bad_good_kpts2)\n",
    "    # return kpts1, kpts2, good_good_kpts1, good_good_kpts2, good_good_distances, bad_good_kpts1, bad_good_kpts2, bad_good_distances\n",
    "\n",
    "def extract_good_and_bad_matches(good_kpts1, good_kpts2, good_distances, margin=4):\n",
    "    # Convert keypoints lists to NumPy arrays for efficient computation\n",
    "    good_kpts1_array = np.array(good_kpts1)\n",
    "    good_kpts2_array = np.array(good_kpts2)\n",
    "\n",
    "    # Compute the absolute differences between keypoints\n",
    "    diff = np.abs(good_kpts1_array - good_kpts2_array)\n",
    "\n",
    "    # Identify good matches based on the margin\n",
    "    good_matches_mask = np.all(diff <= margin, axis=1)\n",
    "\n",
    "    # Split the keypoints, patches, and distances based on the good matches mask\n",
    "    good_good_kpts1 = good_kpts1_array[good_matches_mask].tolist()\n",
    "    good_good_kpts2 = good_kpts2_array[good_matches_mask].tolist()\n",
    "    good_good_distances = np.array(good_distances)[good_matches_mask].tolist()\n",
    "\n",
    "    bad_good_kpts1 = good_kpts1_array[~good_matches_mask].tolist()\n",
    "    bad_good_kpts2 = good_kpts2_array[~good_matches_mask].tolist()\n",
    "    bad_good_distances = np.array(good_distances)[~good_matches_mask].tolist()\n",
    "\n",
    "    count = np.sum(good_matches_mask)\n",
    "\n",
    "    return good_good_kpts1, good_good_kpts2, good_good_distances, bad_good_kpts1, bad_good_kpts2, bad_good_distances, count\n",
    "\n",
    "\n",
    "def preprocess_image(image):\n",
    "    # Implement any preprocessing steps (resizing, normalization, etc.)\n",
    "    transform = transforms.Compose([\n",
    "        transforms.ToTensor(),  # Converts image to PyTorch tensor in CxHxW format\n",
    "        transforms.Normalize(mean=(0), std=(1))  # Normalize the image\n",
    "    ])\n",
    "    image = transform(image).to(device)\n",
    "    return image\n",
    "\n",
    "long_side = 192\n",
    "\n",
    "image1 = load_path_for_pytorch(\"data/mr_us/Case096/t2/035.png\", long_side,force_scale=True).to(device)\n",
    "image2 = load_path_for_pytorch(\"data/mr_us/Case096/us/035.png\", long_side,force_scale=True).to(device)\n",
    "\n",
    "masked_image1, binary_mask = isolate_green_and_mask_image(images/\"mr_us/Case096/t2/035.png\", images/\"mr_us/Case096/us_mask.png\", long_side, device)\n",
    "\n",
    "# plt.imshow(masked_image1.cpu().numpy().transpose(1,2,0))\n",
    "\n",
    "extractor = SuperPoint(max_num_keypoints=200).eval().to(device)\n",
    "# image1 = image1.to(device)\n",
    "feats1 = extractor.extract(masked_image1)\n",
    "feats1 = rbd(feats1)\n",
    "kpts1 = feats1[\"keypoints\"]\n",
    "extract_and_match_patches(image1, kpts1, image2, extractor, device)\n",
    "# kpts1, kpts2, good_kpts1, good_kpts2, good_distances, bad_kpts1, bad_kpts2, bad_distances = extract_and_match_patches(image1, kpts1, image2, extractor, device)"
   ]
  },
  {
   "cell_type": "code",
   "execution_count": 25,
   "id": "2909a66d-5e5b-4393-af80-74721a3c8af6",
   "metadata": {},
   "outputs": [
    {
     "name": "stderr",
     "output_type": "stream",
     "text": [
      "/tmp/ipykernel_16099/3428403937.py:12: DeprecationWarning: Starting with ImageIO v3 the behavior of this function will switch to that of iio.v3.imread. To keep the current behavior (and make this warning disappear) use `import imageio.v2 as imageio` or call `imageio.v2.imread` directly.\n",
      "  x = imread(path)\n"
     ]
    }
   ],
   "source": [
    "import numpy as np\n",
    "from scipy.spatial.distance import cdist\n",
    "import nibabel as nib\n",
    "\n",
    "def load_mind_descriptors(path_t2, path_us, slice_number):\n",
    "    # Load MIND descriptors from NIfTI files\n",
    "    mind_t2 = nib.load(path_t2).get_fdata()[..., slice_number, :]\n",
    "    mind_us = nib.load(path_us).get_fdata()[..., slice_number, :]\n",
    "    return mind_t2, mind_us\n",
    "\n",
    "# def match_keypoints_with_mind(kpts1, kpts2, mind1, mind2, ratio_threshold=0.99):\n",
    "#     # Assuming kpts1 and kpts2 are the coordinates of the keypoints in images 1 and 2 respectively\n",
    "#     # and mind1 and mind2 are the corresponding MIND descriptors for the entire images.\n",
    "\n",
    "#     # Convert keypoints to integer indices to index MIND descriptors\n",
    "#     kpts1_indices = np.round(kpts1.cpu().numpy()).astype(int)\n",
    "#     kpts2_indices = np.round(kpts2.cpu().numpy()).astype(int)\n",
    "\n",
    "#     # Extract the MIND descriptors for the keypoints\n",
    "#     mind1_kpts = mind1[kpts1_indices[:, 1], kpts1_indices[:, 0], :]\n",
    "#     mind2_kpts = mind2[kpts2_indices[:, 1], kpts2_indices[:, 0], :]\n",
    "\n",
    "#      # Calculate the full similarity matrix\n",
    "#     similarities = cosine_similarity(mind1_kpts, mind2_kpts)  # Ensure this returns a full matrix\n",
    "    \n",
    "#     filtered_matches = []\n",
    "#     filtered_similarities = []\n",
    "    \n",
    "#     for i, similarity_scores in enumerate(similarities):\n",
    "#         # Sort the scores in descending order and pick the top two\n",
    "#         sorted_indices = np.argsort(similarity_scores)[::-1]\n",
    "#         best, second_best = similarity_scores[sorted_indices[0]], similarity_scores[sorted_indices[1]]\n",
    "        \n",
    "#         # Apply Lowe's ratio test adapted for similarities\n",
    "#         if second_best/best < ratio_threshold:\n",
    "#             filtered_matches.append((sorted_indices[0]))  # Keep the match index and its best match\n",
    "#             filtered_similarities.append(best)\n",
    "    \n",
    "#     return np.array(filtered_matches), np.array(filtered_similarities)\n",
    "\n",
    "def match_keypoints_with_mind(kpts1, kpts2, mind1, mind2):\n",
    "    # Assuming kpts1 and kpts2 are the coordinates of the keypoints in images 1 and 2 respectively\n",
    "    # and mind1 and mind2 are the corresponding MIND descriptors for the entire images.\n",
    "\n",
    "    # Convert keypoints to integer indices to index MIND descriptors\n",
    "    kpts1_indices = np.round(kpts1.cpu().numpy()).astype(int)\n",
    "    kpts2_indices = np.round(kpts2.cpu().numpy()).astype(int)\n",
    "\n",
    "    # Extract the MIND descriptors for the keypoints\n",
    "    mind1_kpts = mind1[kpts1_indices[:, 1], kpts1_indices[:, 0], :]\n",
    "    mind2_kpts = mind2[kpts2_indices[:, 1], kpts2_indices[:, 0], :]\n",
    "\n",
    "    # Calculate the distances between MIND descriptors of keypoints in image 1 to all in image 2\n",
    "    # distances = cdist(mind1_kpts, mind2_kpts, 'euclidean')\n",
    "    similarities = cosine_similarity(mind1_kpts, mind2_kpts)\n",
    "\n",
    "    # Find the closest match for each keypoint in image 1 to those in image 2\n",
    "    matches = np.argmax(similarities, axis=1)\n",
    "    match_similarities = np.max(similarities, axis=1)\n",
    "\n",
    "    return matches, match_similarities\n",
    "\n",
    "slice_number = 39\n",
    "\n",
    "image1 = load_path_for_pytorch(f\"data/mr_us/Case067/t2/{slice_number:03}.png\", long_side,force_scale=True).to(device)\n",
    "image2 = load_path_for_pytorch(f\"data/mr_us/Case067/us/{slice_number:03}.png\", long_side,force_scale=True).to(device)\n",
    "\n",
    "masked_image1, binary_mask = isolate_green_and_mask_image(images/f\"mr_us/Case067/t2/{slice_number:03}.png\", images/f\"mr_us/Case096/us_mask.png\", long_side, device)\n",
    "\n",
    "# plt.imshow(masked_image1.cpu().numpy().transpose(1,2,0))\n",
    "\n",
    "extractor = SuperPoint(max_num_keypoints=200).eval().to(device)\n",
    "# image1 = image1.to(device)\n",
    "feats1 = extractor.extract(masked_image1)\n",
    "feats1 = rbd(feats1)\n",
    "kpts1 = feats1[\"keypoints\"]\n",
    "\n",
    "# extractor = SuperPoint(max_num_keypoints=None).eval().to(device)\n",
    "    \n",
    "# feats2 = extractor.extract(image2)\n",
    "# feats2 = rbd(feats2)\n",
    "# kpts2 = feats2[\"keypoints\"]\n",
    "\n",
    "kpts2 = kpts1\n",
    "\n",
    "path_t2 = \"data/mr_us/Case067/mind/Case067-t2.nii.gz\"\n",
    "path_us = \"data/mr_us/Case067/mind/Case067-us.nii.gz\"\n",
    "# Usage example\n",
    "# Load MIND descriptors for both images for a specific slice\n",
    "mind_t2, mind_us = load_mind_descriptors(path_t2, path_us, slice_number)\n",
    "\n",
    "# Assuming `kpts1` and `kpts2` are the keypoints extracted from image1 and image2 respectively,\n",
    "# and `mind_t2`, `mind_us` are the loaded MIND descriptors for the corresponding slice.\n",
    "matches, match_similarities = match_keypoints_with_mind(kpts1, kpts2, mind_t2, mind_us)\n",
    "# Now, you have `matches`, which are indices of keypoints in image2 that match to each keypoint in image1,\n",
    "# and `match_distances`, the distances of these matches, which can be used to filter or rank the matches.\n",
    "# Convert images to numpy for plotting\n",
    "image1_np = image1.cpu().numpy().transpose(1, 2, 0)\n",
    "image2_np = image2.cpu().numpy().transpose(1, 2, 0)"
   ]
  },
  {
   "cell_type": "code",
   "execution_count": 26,
   "id": "11009401-39b4-46f5-9251-4188ff701e3b",
   "metadata": {},
   "outputs": [],
   "source": [
    "def filter_matches_by_similarity(matches, match_similarities, threshold):\n",
    "    \"\"\"\n",
    "    Filter matches based on a similarity threshold.\n",
    "\n",
    "    Parameters:\n",
    "    - matches: Array of indices of matched keypoints in the second image.\n",
    "    - match_similarities: Array of similarity scores corresponding to each match.\n",
    "    - threshold: The minimum similarity score for a match to be considered good.\n",
    "\n",
    "    Returns:\n",
    "    - filtered_matches: Array of indices of filtered matched keypoints in the second image.\n",
    "    - filtered_similarities: Array of similarity scores for the filtered matches.\n",
    "    \"\"\"\n",
    "    # Find indices of matches that meet the similarity threshold\n",
    "    good_indices = np.where(match_similarities >= threshold)[0]\n",
    "\n",
    "    # Filter matches and similarities based on these indices\n",
    "    filtered_matches = matches[good_indices]\n",
    "    filtered_similarities = match_similarities[good_indices]\n",
    "\n",
    "    return filtered_matches, filtered_similarities\n",
    "\n",
    "# Example usage\n",
    "similarity_threshold = 0.8 # Example threshold, adjust based on your similarity score range and needs\n",
    "matches, match_similarities = filter_matches_by_similarity(matches, match_similarities, similarity_threshold)\n",
    "\n",
    "# Now, filtered_matches contains only the indices of matches that have a similarity score above the threshold,\n",
    "# and filtered_similarities contains those scores."
   ]
  },
  {
   "cell_type": "code",
   "execution_count": 27,
   "id": "a1128005-6363-4800-9500-0a64e26bd30e",
   "metadata": {},
   "outputs": [],
   "source": [
    "def evaluate_matches(kpts1, kpts2, matches, margin=4):\n",
    "    # Convert keypoints to numpy arrays for distance calculation\n",
    "    kpts1_np = kpts1.cpu().numpy()\n",
    "    kpts2_np = kpts2.cpu().numpy()\n",
    "\n",
    "    # Initialize lists to store good and bad matches\n",
    "    good_matches = []\n",
    "    bad_matches = []\n",
    "\n",
    "    # Go through the matches to classify them as good or bad\n",
    "    for i, match in enumerate(matches):\n",
    "        # Calculate the distance between matched keypoints\n",
    "        dist = np.linalg.norm(kpts1_np[i] - kpts2_np[match])\n",
    "        \n",
    "        if dist <= margin:\n",
    "            good_matches.append((i, match))\n",
    "        else:\n",
    "            bad_matches.append((i, match))\n",
    "\n",
    "    # Calculate percentages\n",
    "    total_matches = len(matches)\n",
    "    good_match_percentage = len(good_matches) / total_matches * 100\n",
    "    bad_match_percentage = len(bad_matches) / total_matches * 100\n",
    "\n",
    "    return np.array(good_matches), np.array(bad_matches), good_match_percentage, bad_match_percentage\n",
    "\n",
    "# Call the function to evaluate matches\n",
    "good_matches, bad_matches, good_match_percentage, bad_match_percentage = evaluate_matches(kpts1, kpts2, matches)"
   ]
  },
  {
   "cell_type": "code",
   "execution_count": 28,
   "id": "bceb6027-2bc0-4c99-b8e1-8969a153c2a8",
   "metadata": {},
   "outputs": [
    {
     "name": "stdout",
     "output_type": "stream",
     "text": [
      "TPR: 6.0\n",
      "FPR: 94.0\n"
     ]
    }
   ],
   "source": [
    "print(f\"TPR: {good_match_percentage}\")\n",
    "print(f\"FPR: {bad_match_percentage}\")"
   ]
  },
  {
   "cell_type": "code",
   "execution_count": 30,
   "id": "97364385-a124-4254-b607-6824b4cc7e43",
   "metadata": {},
   "outputs": [],
   "source": [
    "import matplotlib.pyplot as plt\n",
    "import matplotlib.patches as patches\n",
    "from matplotlib.patches import ConnectionPatch\n",
    "import torch\n",
    "import numpy as np\n",
    "\n",
    "def plot_good_bad_matches(image1, image2, kpts1, kpts2, good_matches, bad_matches):\n",
    "    \"\"\"\n",
    "    Plot good and bad matches between two images.\n",
    "    \"\"\"\n",
    "    # Ensure keypoints and images are in NumPy format\n",
    "    if isinstance(kpts1, torch.Tensor):\n",
    "        kpts1 = kpts1.cpu().numpy()\n",
    "    if isinstance(kpts2, torch.Tensor):\n",
    "        kpts2 = kpts2.cpu().numpy()\n",
    "    if isinstance(image1, torch.Tensor):\n",
    "        image1 = image1.cpu().numpy().transpose(1, 2, 0)\n",
    "    if isinstance(image2, torch.Tensor):\n",
    "        image2 = image2.cpu().numpy().transpose(1, 2, 0)\n",
    "\n",
    "    # Setup plot\n",
    "    print(image1.shape)\n",
    "    print(image2.shape)\n",
    "    \n",
    "    fig, (ax1, ax2) = plt.subplots(1, 2, figsize=(12, 6))\n",
    "    fig.subplots_adjust(wspace=0, hspace=0)\n",
    "    \n",
    "    ax1.imshow(image1)\n",
    "    ax2.imshow(image2)\n",
    "\n",
    "    # Plot good matches in green\n",
    "    for match in good_matches:\n",
    "        color = 'lime'\n",
    "        i, j = match  # Unpack match indices\n",
    "        x1, y1 = (kpts1[i, 0], kpts1[i, 1])\n",
    "        x2, y2 = (kpts2[j, 0], kpts2[j, 1])\n",
    "        cir1 = patches.Circle((x1, y1), 1, linewidth=1, edgecolor=color, facecolor=color, alpha=1)\n",
    "        cir2 = patches.Circle((x2, y2), 1, linewidth=1, edgecolor=color, facecolor=color, alpha=1)\n",
    "        ax1.add_patch(cir1)\n",
    "        ax2.add_patch(cir2)\n",
    "\n",
    "        # Draw a line connecting the patches\n",
    "        line = ConnectionPatch(xyA=(x1, y1), xyB=(x2, y2), coordsA='data', coordsB='data', axesA=ax1, axesB=ax2, color=color, alpha=0.5, linewidth=1.0)\n",
    "        ax2.add_artist(line)\n",
    "    \n",
    "\n",
    "    # Plot bad matches in red\n",
    "    for match in bad_matches:\n",
    "        color = 'red'\n",
    "        i, j = match  # Unpack match indices\n",
    "        x1, y1 = (kpts1[i, 0], kpts1[i, 1])\n",
    "        x2, y2 = (kpts2[j, 0], kpts2[j, 1])\n",
    "        cir1 = patches.Circle((x1, y1), 1, linewidth=1, edgecolor=color, facecolor=color, alpha=1)\n",
    "        cir2 = patches.Circle((x2, y2), 1, linewidth=1, edgecolor=color, facecolor=color, alpha=1)\n",
    "        ax1.add_patch(cir1)\n",
    "        ax2.add_patch(cir2)\n",
    "\n",
    "        # Draw a line connecting the patches\n",
    "        # line = ConnectionPatch(xyA=(x1, y1), xyB=(x2, y2), coordsA='data', coordsB='data', axesA=ax1, axesB=ax2, color=color, alpha=0.5, linewidth=1.0)\n",
    "        # ax2.add_artist(line)\n",
    "\n",
    "    # Set titles and turn off axes\n",
    "    # ax1.set_title(\"Image 1\")\n",
    "    ax1.axis('off')\n",
    "    # ax2.set_title(\"Image 2\")\n",
    "    ax2.axis('off')\n",
    "\n",
    "    plt.savefig(\"cos_mind_slice_match_case067.png\")\n",
    "    plt.show()"
   ]
  },
  {
   "cell_type": "code",
   "execution_count": 31,
   "id": "3b71aba1-5c67-42ac-9942-1a81e3cd8108",
   "metadata": {
    "scrolled": true
   },
   "outputs": [
    {
     "name": "stdout",
     "output_type": "stream",
     "text": [
      "(12, 2)\n",
      "(188, 2)\n",
      "(192, 192, 3)\n",
      "(192, 192, 3)\n"
     ]
    },
    {
     "data": {
      "image/png": "[encoded data removed]",
      "text/plain": [
       "<Figure size 1200x600 with 2 Axes>"
      ]
     },
     "metadata": {},
     "output_type": "display_data"
    }
   ],
   "source": [
    "print(good_matches.shape)\n",
    "print(bad_matches.shape)\n",
    "\n",
    "plot_good_bad_matches(image1_np, image2_np, kpts1, kpts2, good_matches, bad_matches)"
   ]
  },
  {
   "cell_type": "code",
   "execution_count": 46,
   "id": "ed2f5042-6c88-4a60-8d2f-20cf8c9f9d15",
   "metadata": {},
   "outputs": [],
   "source": [
    "def load_data_for_slice(slice_index):\n",
    "    slice_number = slice_index\n",
    "\n",
    "    image1 = load_path_for_pytorch(f\"data/mr_us/Case096/t2/{slice_number:03}.png\", long_side,force_scale=True).to(device)\n",
    "    image2 = load_path_for_pytorch(f\"data/mr_us/Case096/us/{slice_number:03}.png\", long_side,force_scale=True).to(device)\n",
    "    \n",
    "    masked_image1, binary_mask = isolate_green_and_mask_image(images/f\"mr_us/Case096/t2/{slice_number:03}.png\", images/f\"mr_us/Case096/us_mask.png\", long_side, device)\n",
    "\n",
    "    extractor = SuperPoint(max_num_keypoints=200).eval().to(device)\n",
    "    # image1 = image1.to(device)\n",
    "    feats1 = extractor.extract(masked_image1)\n",
    "    feats1 = rbd(feats1)\n",
    "    kpts1 = feats1[\"keypoints\"]\n",
    "    \n",
    "    # extractor = SuperPoint(max_num_keypoints=None).eval().to(device)\n",
    "        \n",
    "    # feats2 = extractor.extract(image2)\n",
    "    # feats2 = rbd(feats2)\n",
    "    # kpts2 = feats2[\"keypoints\"]\n",
    "\n",
    "    kpts2 = kpts1\n",
    "\n",
    "    path_t2 = \"data/mr_us/Case096/mind/Case096-t2.nii.gz\"\n",
    "    path_us = \"data/mr_us/Case096/mind/Case096-us.nii.gz\"\n",
    "    \n",
    "    mind_t2, mind_us = load_mind_descriptors(path_t2, path_us, slice_number)\n",
    "\n",
    "    return image1, image2, kpts1, kpts2, mind_t2, mind_us\n",
    "\n",
    "\n",
    "# image1, image2, kpts1, kpts2, mind_t2, mind_us = load_data_for_slice(slice_index)"
   ]
  },
  {
   "cell_type": "code",
   "execution_count": 48,
   "id": "bfedcac5-f664-4d12-9fd7-32fa35ef8105",
   "metadata": {},
   "outputs": [
    {
     "name": "stdout",
     "output_type": "stream",
     "text": [
      "0\n"
     ]
    },
    {
     "name": "stderr",
     "output_type": "stream",
     "text": [
      "/tmp/ipykernel_12854/3428403937.py:12: DeprecationWarning: Starting with ImageIO v3 the behavior of this function will switch to that of iio.v3.imread. To keep the current behavior (and make this warning disappear) use `import imageio.v2 as imageio` or call `imageio.v2.imread` directly.\n",
      "  x = imread(path)\n"
     ]
    },
    {
     "name": "stdout",
     "output_type": "stream",
     "text": [
      "1\n"
     ]
    },
    {
     "name": "stderr",
     "output_type": "stream",
     "text": [
      "/tmp/ipykernel_12854/3428403937.py:12: DeprecationWarning: Starting with ImageIO v3 the behavior of this function will switch to that of iio.v3.imread. To keep the current behavior (and make this warning disappear) use `import imageio.v2 as imageio` or call `imageio.v2.imread` directly.\n",
      "  x = imread(path)\n"
     ]
    },
    {
     "name": "stdout",
     "output_type": "stream",
     "text": [
      "2\n"
     ]
    },
    {
     "name": "stderr",
     "output_type": "stream",
     "text": [
      "/tmp/ipykernel_12854/3428403937.py:12: DeprecationWarning: Starting with ImageIO v3 the behavior of this function will switch to that of iio.v3.imread. To keep the current behavior (and make this warning disappear) use `import imageio.v2 as imageio` or call `imageio.v2.imread` directly.\n",
      "  x = imread(path)\n"
     ]
    },
    {
     "name": "stdout",
     "output_type": "stream",
     "text": [
      "3\n"
     ]
    },
    {
     "name": "stderr",
     "output_type": "stream",
     "text": [
      "/tmp/ipykernel_12854/3428403937.py:12: DeprecationWarning: Starting with ImageIO v3 the behavior of this function will switch to that of iio.v3.imread. To keep the current behavior (and make this warning disappear) use `import imageio.v2 as imageio` or call `imageio.v2.imread` directly.\n",
      "  x = imread(path)\n"
     ]
    },
    {
     "name": "stdout",
     "output_type": "stream",
     "text": [
      "4\n"
     ]
    },
    {
     "name": "stderr",
     "output_type": "stream",
     "text": [
      "/tmp/ipykernel_12854/3428403937.py:12: DeprecationWarning: Starting with ImageIO v3 the behavior of this function will switch to that of iio.v3.imread. To keep the current behavior (and make this warning disappear) use `import imageio.v2 as imageio` or call `imageio.v2.imread` directly.\n",
      "  x = imread(path)\n"
     ]
    },
    {
     "name": "stdout",
     "output_type": "stream",
     "text": [
      "5\n"
     ]
    },
    {
     "name": "stderr",
     "output_type": "stream",
     "text": [
      "/tmp/ipykernel_12854/3428403937.py:12: DeprecationWarning: Starting with ImageIO v3 the behavior of this function will switch to that of iio.v3.imread. To keep the current behavior (and make this warning disappear) use `import imageio.v2 as imageio` or call `imageio.v2.imread` directly.\n",
      "  x = imread(path)\n"
     ]
    },
    {
     "name": "stdout",
     "output_type": "stream",
     "text": [
      "6\n"
     ]
    },
    {
     "name": "stderr",
     "output_type": "stream",
     "text": [
      "/tmp/ipykernel_12854/3428403937.py:12: DeprecationWarning: Starting with ImageIO v3 the behavior of this function will switch to that of iio.v3.imread. To keep the current behavior (and make this warning disappear) use `import imageio.v2 as imageio` or call `imageio.v2.imread` directly.\n",
      "  x = imread(path)\n"
     ]
    },
    {
     "name": "stdout",
     "output_type": "stream",
     "text": [
      "7\n"
     ]
    },
    {
     "name": "stderr",
     "output_type": "stream",
     "text": [
      "/tmp/ipykernel_12854/3428403937.py:12: DeprecationWarning: Starting with ImageIO v3 the behavior of this function will switch to that of iio.v3.imread. To keep the current behavior (and make this warning disappear) use `import imageio.v2 as imageio` or call `imageio.v2.imread` directly.\n",
      "  x = imread(path)\n"
     ]
    },
    {
     "name": "stdout",
     "output_type": "stream",
     "text": [
      "8\n"
     ]
    },
    {
     "name": "stderr",
     "output_type": "stream",
     "text": [
      "/tmp/ipykernel_12854/3428403937.py:12: DeprecationWarning: Starting with ImageIO v3 the behavior of this function will switch to that of iio.v3.imread. To keep the current behavior (and make this warning disappear) use `import imageio.v2 as imageio` or call `imageio.v2.imread` directly.\n",
      "  x = imread(path)\n"
     ]
    },
    {
     "name": "stdout",
     "output_type": "stream",
     "text": [
      "9\n"
     ]
    },
    {
     "name": "stderr",
     "output_type": "stream",
     "text": [
      "/tmp/ipykernel_12854/3428403937.py:12: DeprecationWarning: Starting with ImageIO v3 the behavior of this function will switch to that of iio.v3.imread. To keep the current behavior (and make this warning disappear) use `import imageio.v2 as imageio` or call `imageio.v2.imread` directly.\n",
      "  x = imread(path)\n"
     ]
    },
    {
     "name": "stdout",
     "output_type": "stream",
     "text": [
      "10\n"
     ]
    },
    {
     "name": "stderr",
     "output_type": "stream",
     "text": [
      "/tmp/ipykernel_12854/3428403937.py:12: DeprecationWarning: Starting with ImageIO v3 the behavior of this function will switch to that of iio.v3.imread. To keep the current behavior (and make this warning disappear) use `import imageio.v2 as imageio` or call `imageio.v2.imread` directly.\n",
      "  x = imread(path)\n"
     ]
    },
    {
     "name": "stdout",
     "output_type": "stream",
     "text": [
      "11\n"
     ]
    },
    {
     "name": "stderr",
     "output_type": "stream",
     "text": [
      "/tmp/ipykernel_12854/3428403937.py:12: DeprecationWarning: Starting with ImageIO v3 the behavior of this function will switch to that of iio.v3.imread. To keep the current behavior (and make this warning disappear) use `import imageio.v2 as imageio` or call `imageio.v2.imread` directly.\n",
      "  x = imread(path)\n"
     ]
    },
    {
     "name": "stdout",
     "output_type": "stream",
     "text": [
      "12\n"
     ]
    },
    {
     "name": "stderr",
     "output_type": "stream",
     "text": [
      "/tmp/ipykernel_12854/3428403937.py:12: DeprecationWarning: Starting with ImageIO v3 the behavior of this function will switch to that of iio.v3.imread. To keep the current behavior (and make this warning disappear) use `import imageio.v2 as imageio` or call `imageio.v2.imread` directly.\n",
      "  x = imread(path)\n"
     ]
    },
    {
     "name": "stdout",
     "output_type": "stream",
     "text": [
      "13\n"
     ]
    },
    {
     "name": "stderr",
     "output_type": "stream",
     "text": [
      "/tmp/ipykernel_12854/3428403937.py:12: DeprecationWarning: Starting with ImageIO v3 the behavior of this function will switch to that of iio.v3.imread. To keep the current behavior (and make this warning disappear) use `import imageio.v2 as imageio` or call `imageio.v2.imread` directly.\n",
      "  x = imread(path)\n"
     ]
    },
    {
     "name": "stdout",
     "output_type": "stream",
     "text": [
      "14\n"
     ]
    },
    {
     "name": "stderr",
     "output_type": "stream",
     "text": [
      "/tmp/ipykernel_12854/3428403937.py:12: DeprecationWarning: Starting with ImageIO v3 the behavior of this function will switch to that of iio.v3.imread. To keep the current behavior (and make this warning disappear) use `import imageio.v2 as imageio` or call `imageio.v2.imread` directly.\n",
      "  x = imread(path)\n"
     ]
    },
    {
     "name": "stdout",
     "output_type": "stream",
     "text": [
      "15\n"
     ]
    },
    {
     "name": "stderr",
     "output_type": "stream",
     "text": [
      "/tmp/ipykernel_12854/3428403937.py:12: DeprecationWarning: Starting with ImageIO v3 the behavior of this function will switch to that of iio.v3.imread. To keep the current behavior (and make this warning disappear) use `import imageio.v2 as imageio` or call `imageio.v2.imread` directly.\n",
      "  x = imread(path)\n"
     ]
    },
    {
     "name": "stdout",
     "output_type": "stream",
     "text": [
      "16\n"
     ]
    },
    {
     "name": "stderr",
     "output_type": "stream",
     "text": [
      "/tmp/ipykernel_12854/3428403937.py:12: DeprecationWarning: Starting with ImageIO v3 the behavior of this function will switch to that of iio.v3.imread. To keep the current behavior (and make this warning disappear) use `import imageio.v2 as imageio` or call `imageio.v2.imread` directly.\n",
      "  x = imread(path)\n"
     ]
    },
    {
     "name": "stdout",
     "output_type": "stream",
     "text": [
      "17\n"
     ]
    },
    {
     "name": "stderr",
     "output_type": "stream",
     "text": [
      "/tmp/ipykernel_12854/3428403937.py:12: DeprecationWarning: Starting with ImageIO v3 the behavior of this function will switch to that of iio.v3.imread. To keep the current behavior (and make this warning disappear) use `import imageio.v2 as imageio` or call `imageio.v2.imread` directly.\n",
      "  x = imread(path)\n"
     ]
    },
    {
     "name": "stdout",
     "output_type": "stream",
     "text": [
      "18\n"
     ]
    },
    {
     "name": "stderr",
     "output_type": "stream",
     "text": [
      "/tmp/ipykernel_12854/3428403937.py:12: DeprecationWarning: Starting with ImageIO v3 the behavior of this function will switch to that of iio.v3.imread. To keep the current behavior (and make this warning disappear) use `import imageio.v2 as imageio` or call `imageio.v2.imread` directly.\n",
      "  x = imread(path)\n"
     ]
    },
    {
     "name": "stdout",
     "output_type": "stream",
     "text": [
      "19\n"
     ]
    },
    {
     "name": "stderr",
     "output_type": "stream",
     "text": [
      "/tmp/ipykernel_12854/3428403937.py:12: DeprecationWarning: Starting with ImageIO v3 the behavior of this function will switch to that of iio.v3.imread. To keep the current behavior (and make this warning disappear) use `import imageio.v2 as imageio` or call `imageio.v2.imread` directly.\n",
      "  x = imread(path)\n"
     ]
    },
    {
     "name": "stdout",
     "output_type": "stream",
     "text": [
      "20\n"
     ]
    },
    {
     "name": "stderr",
     "output_type": "stream",
     "text": [
      "/tmp/ipykernel_12854/3428403937.py:12: DeprecationWarning: Starting with ImageIO v3 the behavior of this function will switch to that of iio.v3.imread. To keep the current behavior (and make this warning disappear) use `import imageio.v2 as imageio` or call `imageio.v2.imread` directly.\n",
      "  x = imread(path)\n"
     ]
    },
    {
     "name": "stdout",
     "output_type": "stream",
     "text": [
      "21\n"
     ]
    },
    {
     "name": "stderr",
     "output_type": "stream",
     "text": [
      "/tmp/ipykernel_12854/3428403937.py:12: DeprecationWarning: Starting with ImageIO v3 the behavior of this function will switch to that of iio.v3.imread. To keep the current behavior (and make this warning disappear) use `import imageio.v2 as imageio` or call `imageio.v2.imread` directly.\n",
      "  x = imread(path)\n"
     ]
    },
    {
     "name": "stdout",
     "output_type": "stream",
     "text": [
      "22\n"
     ]
    },
    {
     "name": "stderr",
     "output_type": "stream",
     "text": [
      "/tmp/ipykernel_12854/3428403937.py:12: DeprecationWarning: Starting with ImageIO v3 the behavior of this function will switch to that of iio.v3.imread. To keep the current behavior (and make this warning disappear) use `import imageio.v2 as imageio` or call `imageio.v2.imread` directly.\n",
      "  x = imread(path)\n"
     ]
    },
    {
     "name": "stdout",
     "output_type": "stream",
     "text": [
      "23\n"
     ]
    },
    {
     "name": "stderr",
     "output_type": "stream",
     "text": [
      "/tmp/ipykernel_12854/3428403937.py:12: DeprecationWarning: Starting with ImageIO v3 the behavior of this function will switch to that of iio.v3.imread. To keep the current behavior (and make this warning disappear) use `import imageio.v2 as imageio` or call `imageio.v2.imread` directly.\n",
      "  x = imread(path)\n"
     ]
    },
    {
     "name": "stdout",
     "output_type": "stream",
     "text": [
      "24\n"
     ]
    },
    {
     "name": "stderr",
     "output_type": "stream",
     "text": [
      "/tmp/ipykernel_12854/3428403937.py:12: DeprecationWarning: Starting with ImageIO v3 the behavior of this function will switch to that of iio.v3.imread. To keep the current behavior (and make this warning disappear) use `import imageio.v2 as imageio` or call `imageio.v2.imread` directly.\n",
      "  x = imread(path)\n"
     ]
    },
    {
     "name": "stdout",
     "output_type": "stream",
     "text": [
      "25\n"
     ]
    },
    {
     "name": "stderr",
     "output_type": "stream",
     "text": [
      "/tmp/ipykernel_12854/3428403937.py:12: DeprecationWarning: Starting with ImageIO v3 the behavior of this function will switch to that of iio.v3.imread. To keep the current behavior (and make this warning disappear) use `import imageio.v2 as imageio` or call `imageio.v2.imread` directly.\n",
      "  x = imread(path)\n"
     ]
    },
    {
     "name": "stdout",
     "output_type": "stream",
     "text": [
      "26\n"
     ]
    },
    {
     "name": "stderr",
     "output_type": "stream",
     "text": [
      "/tmp/ipykernel_12854/3428403937.py:12: DeprecationWarning: Starting with ImageIO v3 the behavior of this function will switch to that of iio.v3.imread. To keep the current behavior (and make this warning disappear) use `import imageio.v2 as imageio` or call `imageio.v2.imread` directly.\n",
      "  x = imread(path)\n"
     ]
    },
    {
     "name": "stdout",
     "output_type": "stream",
     "text": [
      "27\n"
     ]
    },
    {
     "name": "stderr",
     "output_type": "stream",
     "text": [
      "/tmp/ipykernel_12854/3428403937.py:12: DeprecationWarning: Starting with ImageIO v3 the behavior of this function will switch to that of iio.v3.imread. To keep the current behavior (and make this warning disappear) use `import imageio.v2 as imageio` or call `imageio.v2.imread` directly.\n",
      "  x = imread(path)\n"
     ]
    },
    {
     "name": "stdout",
     "output_type": "stream",
     "text": [
      "28\n"
     ]
    },
    {
     "name": "stderr",
     "output_type": "stream",
     "text": [
      "/tmp/ipykernel_12854/3428403937.py:12: DeprecationWarning: Starting with ImageIO v3 the behavior of this function will switch to that of iio.v3.imread. To keep the current behavior (and make this warning disappear) use `import imageio.v2 as imageio` or call `imageio.v2.imread` directly.\n",
      "  x = imread(path)\n"
     ]
    },
    {
     "name": "stdout",
     "output_type": "stream",
     "text": [
      "29\n"
     ]
    },
    {
     "name": "stderr",
     "output_type": "stream",
     "text": [
      "/tmp/ipykernel_12854/3428403937.py:12: DeprecationWarning: Starting with ImageIO v3 the behavior of this function will switch to that of iio.v3.imread. To keep the current behavior (and make this warning disappear) use `import imageio.v2 as imageio` or call `imageio.v2.imread` directly.\n",
      "  x = imread(path)\n"
     ]
    },
    {
     "name": "stdout",
     "output_type": "stream",
     "text": [
      "30\n"
     ]
    },
    {
     "name": "stderr",
     "output_type": "stream",
     "text": [
      "/tmp/ipykernel_12854/3428403937.py:12: DeprecationWarning: Starting with ImageIO v3 the behavior of this function will switch to that of iio.v3.imread. To keep the current behavior (and make this warning disappear) use `import imageio.v2 as imageio` or call `imageio.v2.imread` directly.\n",
      "  x = imread(path)\n"
     ]
    },
    {
     "name": "stdout",
     "output_type": "stream",
     "text": [
      "31\n"
     ]
    },
    {
     "name": "stderr",
     "output_type": "stream",
     "text": [
      "/tmp/ipykernel_12854/3428403937.py:12: DeprecationWarning: Starting with ImageIO v3 the behavior of this function will switch to that of iio.v3.imread. To keep the current behavior (and make this warning disappear) use `import imageio.v2 as imageio` or call `imageio.v2.imread` directly.\n",
      "  x = imread(path)\n"
     ]
    },
    {
     "name": "stdout",
     "output_type": "stream",
     "text": [
      "32\n"
     ]
    },
    {
     "name": "stderr",
     "output_type": "stream",
     "text": [
      "/tmp/ipykernel_12854/3428403937.py:12: DeprecationWarning: Starting with ImageIO v3 the behavior of this function will switch to that of iio.v3.imread. To keep the current behavior (and make this warning disappear) use `import imageio.v2 as imageio` or call `imageio.v2.imread` directly.\n",
      "  x = imread(path)\n"
     ]
    },
    {
     "name": "stdout",
     "output_type": "stream",
     "text": [
      "33\n"
     ]
    },
    {
     "name": "stderr",
     "output_type": "stream",
     "text": [
      "/tmp/ipykernel_12854/3428403937.py:12: DeprecationWarning: Starting with ImageIO v3 the behavior of this function will switch to that of iio.v3.imread. To keep the current behavior (and make this warning disappear) use `import imageio.v2 as imageio` or call `imageio.v2.imread` directly.\n",
      "  x = imread(path)\n"
     ]
    },
    {
     "name": "stdout",
     "output_type": "stream",
     "text": [
      "34\n"
     ]
    },
    {
     "name": "stderr",
     "output_type": "stream",
     "text": [
      "/tmp/ipykernel_12854/3428403937.py:12: DeprecationWarning: Starting with ImageIO v3 the behavior of this function will switch to that of iio.v3.imread. To keep the current behavior (and make this warning disappear) use `import imageio.v2 as imageio` or call `imageio.v2.imread` directly.\n",
      "  x = imread(path)\n"
     ]
    },
    {
     "name": "stdout",
     "output_type": "stream",
     "text": [
      "35\n"
     ]
    },
    {
     "name": "stderr",
     "output_type": "stream",
     "text": [
      "/tmp/ipykernel_12854/3428403937.py:12: DeprecationWarning: Starting with ImageIO v3 the behavior of this function will switch to that of iio.v3.imread. To keep the current behavior (and make this warning disappear) use `import imageio.v2 as imageio` or call `imageio.v2.imread` directly.\n",
      "  x = imread(path)\n"
     ]
    },
    {
     "name": "stdout",
     "output_type": "stream",
     "text": [
      "36\n"
     ]
    },
    {
     "name": "stderr",
     "output_type": "stream",
     "text": [
      "/tmp/ipykernel_12854/3428403937.py:12: DeprecationWarning: Starting with ImageIO v3 the behavior of this function will switch to that of iio.v3.imread. To keep the current behavior (and make this warning disappear) use `import imageio.v2 as imageio` or call `imageio.v2.imread` directly.\n",
      "  x = imread(path)\n"
     ]
    },
    {
     "name": "stdout",
     "output_type": "stream",
     "text": [
      "37\n"
     ]
    },
    {
     "name": "stderr",
     "output_type": "stream",
     "text": [
      "/tmp/ipykernel_12854/3428403937.py:12: DeprecationWarning: Starting with ImageIO v3 the behavior of this function will switch to that of iio.v3.imread. To keep the current behavior (and make this warning disappear) use `import imageio.v2 as imageio` or call `imageio.v2.imread` directly.\n",
      "  x = imread(path)\n"
     ]
    },
    {
     "name": "stdout",
     "output_type": "stream",
     "text": [
      "38\n"
     ]
    },
    {
     "name": "stderr",
     "output_type": "stream",
     "text": [
      "/tmp/ipykernel_12854/3428403937.py:12: DeprecationWarning: Starting with ImageIO v3 the behavior of this function will switch to that of iio.v3.imread. To keep the current behavior (and make this warning disappear) use `import imageio.v2 as imageio` or call `imageio.v2.imread` directly.\n",
      "  x = imread(path)\n"
     ]
    },
    {
     "name": "stdout",
     "output_type": "stream",
     "text": [
      "39\n"
     ]
    },
    {
     "name": "stderr",
     "output_type": "stream",
     "text": [
      "/tmp/ipykernel_12854/3428403937.py:12: DeprecationWarning: Starting with ImageIO v3 the behavior of this function will switch to that of iio.v3.imread. To keep the current behavior (and make this warning disappear) use `import imageio.v2 as imageio` or call `imageio.v2.imread` directly.\n",
      "  x = imread(path)\n"
     ]
    },
    {
     "name": "stdout",
     "output_type": "stream",
     "text": [
      "40\n"
     ]
    },
    {
     "name": "stderr",
     "output_type": "stream",
     "text": [
      "/tmp/ipykernel_12854/3428403937.py:12: DeprecationWarning: Starting with ImageIO v3 the behavior of this function will switch to that of iio.v3.imread. To keep the current behavior (and make this warning disappear) use `import imageio.v2 as imageio` or call `imageio.v2.imread` directly.\n",
      "  x = imread(path)\n"
     ]
    },
    {
     "name": "stdout",
     "output_type": "stream",
     "text": [
      "41\n"
     ]
    },
    {
     "name": "stderr",
     "output_type": "stream",
     "text": [
      "/tmp/ipykernel_12854/3428403937.py:12: DeprecationWarning: Starting with ImageIO v3 the behavior of this function will switch to that of iio.v3.imread. To keep the current behavior (and make this warning disappear) use `import imageio.v2 as imageio` or call `imageio.v2.imread` directly.\n",
      "  x = imread(path)\n"
     ]
    },
    {
     "name": "stdout",
     "output_type": "stream",
     "text": [
      "42\n"
     ]
    },
    {
     "name": "stderr",
     "output_type": "stream",
     "text": [
      "/tmp/ipykernel_12854/3428403937.py:12: DeprecationWarning: Starting with ImageIO v3 the behavior of this function will switch to that of iio.v3.imread. To keep the current behavior (and make this warning disappear) use `import imageio.v2 as imageio` or call `imageio.v2.imread` directly.\n",
      "  x = imread(path)\n"
     ]
    },
    {
     "name": "stdout",
     "output_type": "stream",
     "text": [
      "43\n"
     ]
    },
    {
     "name": "stderr",
     "output_type": "stream",
     "text": [
      "/tmp/ipykernel_12854/3428403937.py:12: DeprecationWarning: Starting with ImageIO v3 the behavior of this function will switch to that of iio.v3.imread. To keep the current behavior (and make this warning disappear) use `import imageio.v2 as imageio` or call `imageio.v2.imread` directly.\n",
      "  x = imread(path)\n"
     ]
    },
    {
     "name": "stdout",
     "output_type": "stream",
     "text": [
      "44\n"
     ]
    },
    {
     "name": "stderr",
     "output_type": "stream",
     "text": [
      "/tmp/ipykernel_12854/3428403937.py:12: DeprecationWarning: Starting with ImageIO v3 the behavior of this function will switch to that of iio.v3.imread. To keep the current behavior (and make this warning disappear) use `import imageio.v2 as imageio` or call `imageio.v2.imread` directly.\n",
      "  x = imread(path)\n"
     ]
    },
    {
     "name": "stdout",
     "output_type": "stream",
     "text": [
      "45\n"
     ]
    },
    {
     "name": "stderr",
     "output_type": "stream",
     "text": [
      "/tmp/ipykernel_12854/3428403937.py:12: DeprecationWarning: Starting with ImageIO v3 the behavior of this function will switch to that of iio.v3.imread. To keep the current behavior (and make this warning disappear) use `import imageio.v2 as imageio` or call `imageio.v2.imread` directly.\n",
      "  x = imread(path)\n"
     ]
    },
    {
     "name": "stdout",
     "output_type": "stream",
     "text": [
      "46\n"
     ]
    },
    {
     "name": "stderr",
     "output_type": "stream",
     "text": [
      "/tmp/ipykernel_12854/3428403937.py:12: DeprecationWarning: Starting with ImageIO v3 the behavior of this function will switch to that of iio.v3.imread. To keep the current behavior (and make this warning disappear) use `import imageio.v2 as imageio` or call `imageio.v2.imread` directly.\n",
      "  x = imread(path)\n"
     ]
    },
    {
     "name": "stdout",
     "output_type": "stream",
     "text": [
      "47\n"
     ]
    },
    {
     "name": "stderr",
     "output_type": "stream",
     "text": [
      "/tmp/ipykernel_12854/3428403937.py:12: DeprecationWarning: Starting with ImageIO v3 the behavior of this function will switch to that of iio.v3.imread. To keep the current behavior (and make this warning disappear) use `import imageio.v2 as imageio` or call `imageio.v2.imread` directly.\n",
      "  x = imread(path)\n"
     ]
    },
    {
     "name": "stdout",
     "output_type": "stream",
     "text": [
      "48\n"
     ]
    },
    {
     "name": "stderr",
     "output_type": "stream",
     "text": [
      "/tmp/ipykernel_12854/3428403937.py:12: DeprecationWarning: Starting with ImageIO v3 the behavior of this function will switch to that of iio.v3.imread. To keep the current behavior (and make this warning disappear) use `import imageio.v2 as imageio` or call `imageio.v2.imread` directly.\n",
      "  x = imread(path)\n"
     ]
    },
    {
     "name": "stdout",
     "output_type": "stream",
     "text": [
      "49\n"
     ]
    },
    {
     "name": "stderr",
     "output_type": "stream",
     "text": [
      "/tmp/ipykernel_12854/3428403937.py:12: DeprecationWarning: Starting with ImageIO v3 the behavior of this function will switch to that of iio.v3.imread. To keep the current behavior (and make this warning disappear) use `import imageio.v2 as imageio` or call `imageio.v2.imread` directly.\n",
      "  x = imread(path)\n"
     ]
    },
    {
     "name": "stdout",
     "output_type": "stream",
     "text": [
      "50\n"
     ]
    },
    {
     "name": "stderr",
     "output_type": "stream",
     "text": [
      "/tmp/ipykernel_12854/3428403937.py:12: DeprecationWarning: Starting with ImageIO v3 the behavior of this function will switch to that of iio.v3.imread. To keep the current behavior (and make this warning disappear) use `import imageio.v2 as imageio` or call `imageio.v2.imread` directly.\n",
      "  x = imread(path)\n"
     ]
    },
    {
     "name": "stdout",
     "output_type": "stream",
     "text": [
      "51\n"
     ]
    },
    {
     "name": "stderr",
     "output_type": "stream",
     "text": [
      "/tmp/ipykernel_12854/3428403937.py:12: DeprecationWarning: Starting with ImageIO v3 the behavior of this function will switch to that of iio.v3.imread. To keep the current behavior (and make this warning disappear) use `import imageio.v2 as imageio` or call `imageio.v2.imread` directly.\n",
      "  x = imread(path)\n"
     ]
    },
    {
     "name": "stdout",
     "output_type": "stream",
     "text": [
      "52\n"
     ]
    },
    {
     "name": "stderr",
     "output_type": "stream",
     "text": [
      "/tmp/ipykernel_12854/3428403937.py:12: DeprecationWarning: Starting with ImageIO v3 the behavior of this function will switch to that of iio.v3.imread. To keep the current behavior (and make this warning disappear) use `import imageio.v2 as imageio` or call `imageio.v2.imread` directly.\n",
      "  x = imread(path)\n"
     ]
    },
    {
     "name": "stdout",
     "output_type": "stream",
     "text": [
      "53\n"
     ]
    },
    {
     "name": "stderr",
     "output_type": "stream",
     "text": [
      "/tmp/ipykernel_12854/3428403937.py:12: DeprecationWarning: Starting with ImageIO v3 the behavior of this function will switch to that of iio.v3.imread. To keep the current behavior (and make this warning disappear) use `import imageio.v2 as imageio` or call `imageio.v2.imread` directly.\n",
      "  x = imread(path)\n"
     ]
    },
    {
     "name": "stdout",
     "output_type": "stream",
     "text": [
      "54\n"
     ]
    },
    {
     "name": "stderr",
     "output_type": "stream",
     "text": [
      "/tmp/ipykernel_12854/3428403937.py:12: DeprecationWarning: Starting with ImageIO v3 the behavior of this function will switch to that of iio.v3.imread. To keep the current behavior (and make this warning disappear) use `import imageio.v2 as imageio` or call `imageio.v2.imread` directly.\n",
      "  x = imread(path)\n"
     ]
    },
    {
     "name": "stdout",
     "output_type": "stream",
     "text": [
      "55\n"
     ]
    },
    {
     "name": "stderr",
     "output_type": "stream",
     "text": [
      "/tmp/ipykernel_12854/3428403937.py:12: DeprecationWarning: Starting with ImageIO v3 the behavior of this function will switch to that of iio.v3.imread. To keep the current behavior (and make this warning disappear) use `import imageio.v2 as imageio` or call `imageio.v2.imread` directly.\n",
      "  x = imread(path)\n"
     ]
    },
    {
     "name": "stdout",
     "output_type": "stream",
     "text": [
      "56\n"
     ]
    },
    {
     "name": "stderr",
     "output_type": "stream",
     "text": [
      "/tmp/ipykernel_12854/3428403937.py:12: DeprecationWarning: Starting with ImageIO v3 the behavior of this function will switch to that of iio.v3.imread. To keep the current behavior (and make this warning disappear) use `import imageio.v2 as imageio` or call `imageio.v2.imread` directly.\n",
      "  x = imread(path)\n"
     ]
    },
    {
     "name": "stdout",
     "output_type": "stream",
     "text": [
      "57\n"
     ]
    },
    {
     "name": "stderr",
     "output_type": "stream",
     "text": [
      "/tmp/ipykernel_12854/3428403937.py:12: DeprecationWarning: Starting with ImageIO v3 the behavior of this function will switch to that of iio.v3.imread. To keep the current behavior (and make this warning disappear) use `import imageio.v2 as imageio` or call `imageio.v2.imread` directly.\n",
      "  x = imread(path)\n"
     ]
    },
    {
     "name": "stdout",
     "output_type": "stream",
     "text": [
      "58\n"
     ]
    },
    {
     "name": "stderr",
     "output_type": "stream",
     "text": [
      "/tmp/ipykernel_12854/3428403937.py:12: DeprecationWarning: Starting with ImageIO v3 the behavior of this function will switch to that of iio.v3.imread. To keep the current behavior (and make this warning disappear) use `import imageio.v2 as imageio` or call `imageio.v2.imread` directly.\n",
      "  x = imread(path)\n"
     ]
    },
    {
     "name": "stdout",
     "output_type": "stream",
     "text": [
      "59\n"
     ]
    },
    {
     "name": "stderr",
     "output_type": "stream",
     "text": [
      "/tmp/ipykernel_12854/3428403937.py:12: DeprecationWarning: Starting with ImageIO v3 the behavior of this function will switch to that of iio.v3.imread. To keep the current behavior (and make this warning disappear) use `import imageio.v2 as imageio` or call `imageio.v2.imread` directly.\n",
      "  x = imread(path)\n"
     ]
    },
    {
     "name": "stdout",
     "output_type": "stream",
     "text": [
      "60\n"
     ]
    },
    {
     "name": "stderr",
     "output_type": "stream",
     "text": [
      "/tmp/ipykernel_12854/3428403937.py:12: DeprecationWarning: Starting with ImageIO v3 the behavior of this function will switch to that of iio.v3.imread. To keep the current behavior (and make this warning disappear) use `import imageio.v2 as imageio` or call `imageio.v2.imread` directly.\n",
      "  x = imread(path)\n"
     ]
    },
    {
     "name": "stdout",
     "output_type": "stream",
     "text": [
      "61\n"
     ]
    },
    {
     "name": "stderr",
     "output_type": "stream",
     "text": [
      "/tmp/ipykernel_12854/3428403937.py:12: DeprecationWarning: Starting with ImageIO v3 the behavior of this function will switch to that of iio.v3.imread. To keep the current behavior (and make this warning disappear) use `import imageio.v2 as imageio` or call `imageio.v2.imread` directly.\n",
      "  x = imread(path)\n"
     ]
    },
    {
     "name": "stdout",
     "output_type": "stream",
     "text": [
      "62\n"
     ]
    },
    {
     "name": "stderr",
     "output_type": "stream",
     "text": [
      "/tmp/ipykernel_12854/3428403937.py:12: DeprecationWarning: Starting with ImageIO v3 the behavior of this function will switch to that of iio.v3.imread. To keep the current behavior (and make this warning disappear) use `import imageio.v2 as imageio` or call `imageio.v2.imread` directly.\n",
      "  x = imread(path)\n"
     ]
    },
    {
     "name": "stdout",
     "output_type": "stream",
     "text": [
      "63\n"
     ]
    },
    {
     "name": "stderr",
     "output_type": "stream",
     "text": [
      "/tmp/ipykernel_12854/3428403937.py:12: DeprecationWarning: Starting with ImageIO v3 the behavior of this function will switch to that of iio.v3.imread. To keep the current behavior (and make this warning disappear) use `import imageio.v2 as imageio` or call `imageio.v2.imread` directly.\n",
      "  x = imread(path)\n"
     ]
    },
    {
     "name": "stdout",
     "output_type": "stream",
     "text": [
      "64\n"
     ]
    },
    {
     "name": "stderr",
     "output_type": "stream",
     "text": [
      "/tmp/ipykernel_12854/3428403937.py:12: DeprecationWarning: Starting with ImageIO v3 the behavior of this function will switch to that of iio.v3.imread. To keep the current behavior (and make this warning disappear) use `import imageio.v2 as imageio` or call `imageio.v2.imread` directly.\n",
      "  x = imread(path)\n"
     ]
    },
    {
     "name": "stdout",
     "output_type": "stream",
     "text": [
      "65\n"
     ]
    },
    {
     "name": "stderr",
     "output_type": "stream",
     "text": [
      "/tmp/ipykernel_12854/3428403937.py:12: DeprecationWarning: Starting with ImageIO v3 the behavior of this function will switch to that of iio.v3.imread. To keep the current behavior (and make this warning disappear) use `import imageio.v2 as imageio` or call `imageio.v2.imread` directly.\n",
      "  x = imread(path)\n"
     ]
    },
    {
     "name": "stdout",
     "output_type": "stream",
     "text": [
      "66\n"
     ]
    },
    {
     "name": "stderr",
     "output_type": "stream",
     "text": [
      "/tmp/ipykernel_12854/3428403937.py:12: DeprecationWarning: Starting with ImageIO v3 the behavior of this function will switch to that of iio.v3.imread. To keep the current behavior (and make this warning disappear) use `import imageio.v2 as imageio` or call `imageio.v2.imread` directly.\n",
      "  x = imread(path)\n"
     ]
    },
    {
     "name": "stdout",
     "output_type": "stream",
     "text": [
      "67\n"
     ]
    },
    {
     "name": "stderr",
     "output_type": "stream",
     "text": [
      "/tmp/ipykernel_12854/3428403937.py:12: DeprecationWarning: Starting with ImageIO v3 the behavior of this function will switch to that of iio.v3.imread. To keep the current behavior (and make this warning disappear) use `import imageio.v2 as imageio` or call `imageio.v2.imread` directly.\n",
      "  x = imread(path)\n"
     ]
    },
    {
     "name": "stdout",
     "output_type": "stream",
     "text": [
      "68\n"
     ]
    },
    {
     "name": "stderr",
     "output_type": "stream",
     "text": [
      "/tmp/ipykernel_12854/3428403937.py:12: DeprecationWarning: Starting with ImageIO v3 the behavior of this function will switch to that of iio.v3.imread. To keep the current behavior (and make this warning disappear) use `import imageio.v2 as imageio` or call `imageio.v2.imread` directly.\n",
      "  x = imread(path)\n"
     ]
    },
    {
     "name": "stdout",
     "output_type": "stream",
     "text": [
      "69\n"
     ]
    },
    {
     "name": "stderr",
     "output_type": "stream",
     "text": [
      "/tmp/ipykernel_12854/3428403937.py:12: DeprecationWarning: Starting with ImageIO v3 the behavior of this function will switch to that of iio.v3.imread. To keep the current behavior (and make this warning disappear) use `import imageio.v2 as imageio` or call `imageio.v2.imread` directly.\n",
      "  x = imread(path)\n"
     ]
    },
    {
     "name": "stdout",
     "output_type": "stream",
     "text": [
      "70\n"
     ]
    },
    {
     "name": "stderr",
     "output_type": "stream",
     "text": [
      "/tmp/ipykernel_12854/3428403937.py:12: DeprecationWarning: Starting with ImageIO v3 the behavior of this function will switch to that of iio.v3.imread. To keep the current behavior (and make this warning disappear) use `import imageio.v2 as imageio` or call `imageio.v2.imread` directly.\n",
      "  x = imread(path)\n"
     ]
    },
    {
     "name": "stdout",
     "output_type": "stream",
     "text": [
      "71\n"
     ]
    },
    {
     "name": "stderr",
     "output_type": "stream",
     "text": [
      "/tmp/ipykernel_12854/3428403937.py:12: DeprecationWarning: Starting with ImageIO v3 the behavior of this function will switch to that of iio.v3.imread. To keep the current behavior (and make this warning disappear) use `import imageio.v2 as imageio` or call `imageio.v2.imread` directly.\n",
      "  x = imread(path)\n"
     ]
    },
    {
     "name": "stdout",
     "output_type": "stream",
     "text": [
      "72\n"
     ]
    },
    {
     "name": "stderr",
     "output_type": "stream",
     "text": [
      "/tmp/ipykernel_12854/3428403937.py:12: DeprecationWarning: Starting with ImageIO v3 the behavior of this function will switch to that of iio.v3.imread. To keep the current behavior (and make this warning disappear) use `import imageio.v2 as imageio` or call `imageio.v2.imread` directly.\n",
      "  x = imread(path)\n"
     ]
    },
    {
     "name": "stdout",
     "output_type": "stream",
     "text": [
      "73\n"
     ]
    },
    {
     "name": "stderr",
     "output_type": "stream",
     "text": [
      "/tmp/ipykernel_12854/3428403937.py:12: DeprecationWarning: Starting with ImageIO v3 the behavior of this function will switch to that of iio.v3.imread. To keep the current behavior (and make this warning disappear) use `import imageio.v2 as imageio` or call `imageio.v2.imread` directly.\n",
      "  x = imread(path)\n"
     ]
    },
    {
     "name": "stdout",
     "output_type": "stream",
     "text": [
      "74\n"
     ]
    },
    {
     "name": "stderr",
     "output_type": "stream",
     "text": [
      "/tmp/ipykernel_12854/3428403937.py:12: DeprecationWarning: Starting with ImageIO v3 the behavior of this function will switch to that of iio.v3.imread. To keep the current behavior (and make this warning disappear) use `import imageio.v2 as imageio` or call `imageio.v2.imread` directly.\n",
      "  x = imread(path)\n"
     ]
    },
    {
     "name": "stdout",
     "output_type": "stream",
     "text": [
      "75\n"
     ]
    },
    {
     "name": "stderr",
     "output_type": "stream",
     "text": [
      "/tmp/ipykernel_12854/3428403937.py:12: DeprecationWarning: Starting with ImageIO v3 the behavior of this function will switch to that of iio.v3.imread. To keep the current behavior (and make this warning disappear) use `import imageio.v2 as imageio` or call `imageio.v2.imread` directly.\n",
      "  x = imread(path)\n"
     ]
    },
    {
     "name": "stdout",
     "output_type": "stream",
     "text": [
      "76\n"
     ]
    },
    {
     "name": "stderr",
     "output_type": "stream",
     "text": [
      "/tmp/ipykernel_12854/3428403937.py:12: DeprecationWarning: Starting with ImageIO v3 the behavior of this function will switch to that of iio.v3.imread. To keep the current behavior (and make this warning disappear) use `import imageio.v2 as imageio` or call `imageio.v2.imread` directly.\n",
      "  x = imread(path)\n"
     ]
    },
    {
     "name": "stdout",
     "output_type": "stream",
     "text": [
      "77\n"
     ]
    },
    {
     "name": "stderr",
     "output_type": "stream",
     "text": [
      "/tmp/ipykernel_12854/3428403937.py:12: DeprecationWarning: Starting with ImageIO v3 the behavior of this function will switch to that of iio.v3.imread. To keep the current behavior (and make this warning disappear) use `import imageio.v2 as imageio` or call `imageio.v2.imread` directly.\n",
      "  x = imread(path)\n"
     ]
    },
    {
     "name": "stdout",
     "output_type": "stream",
     "text": [
      "Average TPR: 3.621794871794872%\n",
      "Average FPR: 96.37820512820512%\n"
     ]
    }
   ],
   "source": [
    "import numpy as np\n",
    "\n",
    "# Initialize lists to store TPR and FPR for all slices\n",
    "tpr_list = []\n",
    "fpr_list = []\n",
    "\n",
    "for slice_index in range(0, 78):  # Assuming slice indexes are 0-based\n",
    "    print(slice_index)\n",
    "    # Load images, keypoints, and MIND descriptors for the current slice\n",
    "    # Note: You'll need to implement `load_path_for_pytorch`, `isolate_green_and_mask_image`,\n",
    "    # `load_mind_descriptors`, and other required functions to work with your specific data and setup.\n",
    "    image1, image2, kpts1, kpts2, mind_t2, mind_us = load_data_for_slice(slice_index)\n",
    "\n",
    "    # Perform matching and filtering as described\n",
    "    matches, match_similarities = match_keypoints_with_mind(kpts1, kpts2, mind_t2, mind_us)\n",
    "    filtered_matches, filtered_similarities = filter_matches_by_similarity(matches, match_similarities, threshold=0.8)\n",
    "    \n",
    "    # Evaluate matches to classify them as good or bad\n",
    "    good_matches, bad_matches, good_match_percentage, bad_match_percentage = evaluate_matches(kpts1, kpts2, filtered_matches, margin=2)\n",
    "    \n",
    "    # Store TPR and FPR\n",
    "    tpr_list.append(good_match_percentage)\n",
    "    fpr_list.append(bad_match_percentage)\n",
    "\n",
    "# Calculate average TPR and FPR across all slices\n",
    "average_tpr = np.mean(tpr_list)\n",
    "average_fpr = np.mean(fpr_list)\n",
    "\n",
    "print(f\"Average TPR: {average_tpr}%\")\n",
    "print(f\"Average FPR: {average_fpr}%\")\n"
   ]
  },
  {
   "cell_type": "code",
   "execution_count": null,
   "id": "f108fd00-8aab-4776-b339-c72cba19ff23",
   "metadata": {},
   "outputs": [],
   "source": []
  }
 ],
 "metadata": {
  "kernelspec": {
   "display_name": "Python 3 (ipykernel)",
   "language": "python",
   "name": "python3"
  },
  "language_info": {
   "codemirror_mode": {
    "name": "ipython",
    "version": 3
   },
   "file_extension": ".py",
   "mimetype": "text/x-python",
   "name": "python",
   "nbconvert_exporter": "python",
   "pygments_lexer": "ipython3",
   "version": "3.9.18"
  }
 },
 "nbformat": 4,
 "nbformat_minor": 5
}
